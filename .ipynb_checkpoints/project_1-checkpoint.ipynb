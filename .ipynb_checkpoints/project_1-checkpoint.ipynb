{
 "cells": [
  {
   "cell_type": "code",
   "execution_count": 139,
   "id": "8ab2de5f-9239-4856-aa50-9040bc29e819",
   "metadata": {},
   "outputs": [
    {
     "data": {
      "text/plain": [
       "4"
      ]
     },
     "execution_count": 139,
     "metadata": {},
     "output_type": "execute_result"
    }
   ],
   "source": [
    "2 + 2"
   ]
  },
  {
   "cell_type": "code",
   "execution_count": 3,
   "id": "076a7f36-ca8e-4a36-abf1-e3f61ba48af5",
   "metadata": {},
   "outputs": [
    {
     "data": {
      "text/plain": [
       "72.0"
      ]
     },
     "execution_count": 3,
     "metadata": {},
     "output_type": "execute_result"
    }
   ],
   "source": [
    "3*(12*(4)**(1/2))"
   ]
  },
  {
   "cell_type": "code",
   "execution_count": 6,
   "id": "a1d3338a-829c-4c88-8829-273ad5a4be31",
   "metadata": {},
   "outputs": [
    {
     "data": {
      "text/plain": [
       "3"
      ]
     },
     "execution_count": 6,
     "metadata": {},
     "output_type": "execute_result"
    }
   ],
   "source": [
    "10//3"
   ]
  },
  {
   "cell_type": "code",
   "execution_count": 8,
   "id": "d50f044b-07b2-4219-9986-2513e0c07293",
   "metadata": {},
   "outputs": [
    {
     "data": {
      "text/plain": [
       "1"
      ]
     },
     "execution_count": 8,
     "metadata": {},
     "output_type": "execute_result"
    }
   ],
   "source": [
    "100%3"
   ]
  },
  {
   "cell_type": "code",
   "execution_count": 10,
   "id": "3beb9e10-9d1a-4e01-ae74-080048921eee",
   "metadata": {},
   "outputs": [
    {
     "data": {
      "text/plain": [
       "8192"
      ]
     },
     "execution_count": 10,
     "metadata": {},
     "output_type": "execute_result"
    }
   ],
   "source": [
    "2**13"
   ]
  },
  {
   "cell_type": "code",
   "execution_count": 12,
   "id": "6bdb04eb-14f4-490e-a0d3-a634dd541cfd",
   "metadata": {},
   "outputs": [
    {
     "data": {
      "text/plain": [
       "True"
      ]
     },
     "execution_count": 12,
     "metadata": {},
     "output_type": "execute_result"
    }
   ],
   "source": [
    "10 == 10"
   ]
  },
  {
   "cell_type": "code",
   "execution_count": 53,
   "id": "96051cc8-adda-457a-a4a8-43ac13afb593",
   "metadata": {},
   "outputs": [
    {
     "data": {
      "text/plain": [
       "'S'"
      ]
     },
     "execution_count": 53,
     "metadata": {},
     "output_type": "execute_result"
    }
   ],
   "source": [
    "word = \"strength\".upper()\n",
    "word[0]"
   ]
  },
  {
   "cell_type": "code",
   "execution_count": 31,
   "id": "46c7b781-f902-4431-a897-69a0b54dc67d",
   "metadata": {},
   "outputs": [
    {
     "data": {
      "text/plain": [
       "'харизма'"
      ]
     },
     "execution_count": 31,
     "metadata": {},
     "output_type": "execute_result"
    }
   ],
   "source": [
    "skills = [\"сила\", \"ловкость\", \"интеллект\", \"выносливость\"]\n",
    "skills.append(\"харизма\")\n",
    "skills[-1]"
   ]
  },
  {
   "cell_type": "code",
   "execution_count": 43,
   "id": "eb66cdf2-ab39-4d7d-90f1-c512114a6328",
   "metadata": {},
   "outputs": [
    {
     "data": {
      "text/plain": [
       "dict_keys(['Ваня', 'Серёжа'])"
      ]
     },
     "execution_count": 43,
     "metadata": {},
     "output_type": "execute_result"
    }
   ],
   "source": [
    "marks = {\n",
    "    \"Ваня\": 3,\n",
    "    \"Серёжа\": 5\n",
    "}\n",
    "marks.keys()"
   ]
  },
  {
   "cell_type": "code",
   "execution_count": 51,
   "id": "8f7bf819-aa67-43f5-a464-14fdb1b65425",
   "metadata": {},
   "outputs": [
    {
     "data": {
      "text/plain": [
       "{5, 17, 879, 1024}"
      ]
     },
     "execution_count": 51,
     "metadata": {},
     "output_type": "execute_result"
    }
   ],
   "source": [
    "a = {5, 17, 879}\n",
    "a.add(1024)\n",
    "a"
   ]
  },
  {
   "cell_type": "code",
   "execution_count": 137,
   "id": "61fea214-963b-4d91-b580-dc4d7106323f",
   "metadata": {},
   "outputs": [
    {
     "name": "stdin",
     "output_type": "stream",
     "text": [
      "Есть возможность рассрочки для Mercedes-S? Да/нет Да\n",
      "Есть возможность рассрочки для lada-kalina? Да/нет Нет\n",
      "Есть возможность рассрочки для lada-Vesta? Да/нет Да\n",
      "Есть возможность рассрочки для lada-Priora? Да/нет Да\n",
      "Введите искомый год выпкуска:  2008\n"
     ]
    },
    {
     "name": "stdout",
     "output_type": "stream",
     "text": [
      "[('lada', 'kalina'), ('lada', 'Vesta'), ('lada', 'Priora')]\n"
     ]
    }
   ],
   "source": [
    "def get_selection(catalog, target_key, target_value): # список, словарь, ключ-кортеж:значение-словарь\n",
    "    result = []\n",
    "    for cell in catalog:\n",
    "        for key, value in cell.items():\n",
    "            if value[target_key] == target_value:\n",
    "                result.append(key)\n",
    "    return result\n",
    "\n",
    "if __name__ == \"__main__\":\n",
    "    car_catalog = []\n",
    "    car_catalog.append({\n",
    "       (\"Mercedes\", \"S\"): {\n",
    "           \"price\": 45150000,\n",
    "           \"engine_displacement\": 1000,\n",
    "           \"acceleration_time\": 5,\n",
    "           \"wheel_drive\": \"AWD\",\n",
    "           \"release_date\": 2011,\n",
    "           \"origin\": \"Германия\"\n",
    "       }\n",
    "    })\n",
    "    car_catalog.append({\n",
    "       (\"lada\", \"kalina\"): {\n",
    "           \"price\": 1500000,\n",
    "           \"engine_displacement\": 1000,\n",
    "           \"acceleration_time\": 12,\n",
    "           \"wheel_drive\": \"AWD\",\n",
    "           \"release_date\": 2008,\n",
    "           \"origin\": \"Россия\"\n",
    "       }\n",
    "    })\n",
    "    car_catalog.append({\n",
    "       (\"lada\", \"Vesta\"): {\n",
    "           \"price\": 1500000,\n",
    "           \"engine_displacement\": 1000,\n",
    "           \"acceleration_time\": 12,\n",
    "           \"wheel_drive\": \"AWD\",\n",
    "           \"release_date\": 2008,\n",
    "           \"origin\": \"Россия\"\n",
    "       }\n",
    "    })\n",
    "    car_catalog.append({\n",
    "       (\"lada\", \"Priora\"): {\n",
    "           \"price\": 1500000,\n",
    "           \"engine_displacement\": 1000,\n",
    "           \"acceleration_time\": 12,\n",
    "           \"wheel_drive\": \"AWD\",\n",
    "           \"release_date\": 2008,\n",
    "           \"origin\": \"Россия\"\n",
    "       }\n",
    "    })\n",
    "\n",
    "    \n",
    "    for num in range(len(car_catalog)):\n",
    "        for i in car_catalog[num].keys():\n",
    "            intallment = input(f\"Есть возможность рассрочки для {i[0]}-{i[1]}? Да/нет\")\n",
    "            # car_catalog[num][('mercedes', 's')][\"installment\"] = True\n",
    "            if installment.lower() == \"да\":\n",
    "                car_catalog[num][(i[0], i[1])].update({\"installment\": True})\n",
    "            else: \n",
    "                car_catalog[num][(i[0], i[1])].update({\"installment\": False})\n",
    "            \n",
    "    target_key = \"release_date\"\n",
    "    target_value = int(input(\"Введите искомый год выпкуска: \"))\n",
    "    \n",
    "\n",
    "    print(get_selection(car_catalog, target_key, target_value))"
   ]
  },
  {
   "cell_type": "code",
   "execution_count": null,
   "id": "59227c1b-cce3-4ed1-8bb7-7801a429fbc3",
   "metadata": {},
   "outputs": [],
   "source": []
  }
 ],
 "metadata": {
  "kernelspec": {
   "display_name": "Python 3 (ipykernel)",
   "language": "python",
   "name": "python3"
  },
  "language_info": {
   "codemirror_mode": {
    "name": "ipython",
    "version": 3
   },
   "file_extension": ".py",
   "mimetype": "text/x-python",
   "name": "python",
   "nbconvert_exporter": "python",
   "pygments_lexer": "ipython3",
   "version": "3.12.4"
  }
 },
 "nbformat": 4,
 "nbformat_minor": 5
}
